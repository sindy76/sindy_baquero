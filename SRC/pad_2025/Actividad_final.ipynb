{
  "nbformat": 4,
  "nbformat_minor": 0,
  "metadata": {
    "colab": {
      "provenance": []
    },
    "kernelspec": {
      "name": "python3",
      "display_name": "Python 3"
    },
    "language_info": {
      "name": "python"
    }
  },
  "cells": [
    {
      "cell_type": "code",
      "execution_count": 1,
      "metadata": {
        "colab": {
          "base_uri": "https://localhost:8080/"
        },
        "id": "RI7NLRbOY2ia",
        "outputId": "6ea102ea-205a-44b7-b522-8d79bef60c00"
      },
      "outputs": [
        {
          "output_type": "stream",
          "name": "stdout",
          "text": [
            "Requirement already satisfied: pip in /usr/local/lib/python3.11/dist-packages (24.1.2)\n",
            "Collecting pip\n",
            "  Downloading pip-25.0.1-py3-none-any.whl.metadata (3.7 kB)\n",
            "Downloading pip-25.0.1-py3-none-any.whl (1.8 MB)\n",
            "\u001b[2K   \u001b[90m━━━━━━━━━━━━━━━━━━━━━━━━━━━━━━━━━━━━━━━━\u001b[0m \u001b[32m1.8/1.8 MB\u001b[0m \u001b[31m16.6 MB/s\u001b[0m eta \u001b[36m0:00:00\u001b[0m\n",
            "\u001b[?25hInstalling collected packages: pip\n",
            "  Attempting uninstall: pip\n",
            "    Found existing installation: pip 24.1.2\n",
            "    Uninstalling pip-24.1.2:\n",
            "      Successfully uninstalled pip-24.1.2\n",
            "Successfully installed pip-25.0.1\n"
          ]
        }
      ],
      "source": [
        "!python -m pip install --upgrade pip"
      ]
    },
    {
      "cell_type": "code",
      "source": [
        "!pip install kagglehub[pandas-datasets]>=0.3.8 geopy"
      ],
      "metadata": {
        "id": "BwyD5yvbY7AB"
      },
      "execution_count": 2,
      "outputs": []
    },
    {
      "cell_type": "code",
      "source": [
        "import kagglehub\n",
        "import zipfile\n",
        "import os\n",
        "import pandas as pd\n",
        "from geopy.geocoders import Nominatim\n",
        "from geopy.extra.rate_limiter import RateLimiter"
      ],
      "metadata": {
        "id": "4M862v6sZDAQ"
      },
      "execution_count": 3,
      "outputs": []
    },
    {
      "cell_type": "code",
      "source": [
        "class Pad_clase:\n",
        "    def __init__(self):\n",
        "        pass\n",
        "\n",
        "    def download_dataset_zip(self,url = \"\"):\n",
        "        print(\"Descargando dataset desde Kaggle...\")\n",
        "        dataset_path = kagglehub.dataset_download(url)\n",
        "        print(\"Ruta al dataset:\", dataset_path)\n",
        "        return dataset_path\n",
        "\n",
        "    def extract_zip_files(self,dataset_path):\n",
        "        zip_files = [f for f in os.listdir(dataset_path) if f.endswith('.zip')]\n",
        "        if zip_files:\n",
        "            zip_file = os.path.join(dataset_path, zip_files[0])\n",
        "            extract_dir = os.path.join(dataset_path, \"extracted\")\n",
        "            os.makedirs(extract_dir, exist_ok=True)\n",
        "            print(f\"Extrayendo {zip_file} en {extract_dir}...\")\n",
        "            with zipfile.ZipFile(zip_file, \"r\") as z:\n",
        "                z.extractall(extract_dir)\n",
        "            return extract_dir\n",
        "        else:\n",
        "            # Si no se encuentra un ZIP, se verifica si existen archivos CSV en la ruta\n",
        "            csv_files = [f for f in os.listdir(dataset_path) if f.endswith('.csv')]\n",
        "            if csv_files:\n",
        "                print(\"No se encontró archivo ZIP pero se detectaron archivos CSV; se asume que el dataset ya se encuentra extraído.\")\n",
        "                return dataset_path\n",
        "            else:\n",
        "                raise FileNotFoundError(\"No se encontró ningún archivo .zip ni archivos .csv en la ruta del dataset\")\n",
        "\n",
        "    def create_csv(self,csv_dir):\n",
        "        #os.makedirs('src/static/csv', exist_ok=True)\n",
        "        csv_files = [f for f in os.listdir(csv_dir) if f.endswith('.csv')]\n",
        "        if not csv_files:\n",
        "            raise FileNotFoundError(\"No se encontraron archivos CSV en el directorio extraído\")\n",
        "\n",
        "        for file in csv_files:\n",
        "            file_path = os.path.join(csv_dir, file)\n",
        "            print(f\"Leyendo {file_path}...\")\n",
        "            try:\n",
        "                df = pd.read_csv(file_path, encoding=\"latin1\")\n",
        "            except Exception as e:\n",
        "                print(f\"Error al leer {file}: {e}\")\n",
        "                continue\n",
        "            print(f\"Creando/actualizando \")\n",
        "        print(\"cvs creado correctamente en \")\n",
        "        return df\n",
        "\n",
        "    def columna_regex(self,df_datos =pd.DataFrame(), reg = r\"\",columna =\"\",n_columnas = []):\n",
        "        df = df_datos.copy()\n",
        "        df[n_columnas] = df[columna].str.extract(reg).astype(int)\n",
        "        return df\n",
        "\n",
        "    def limpieza_nan_null(self,df_datos =pd.DataFrame(), name_col=\"\", reemplezar=\"\"):\n",
        "        if df_datos[name_col].isnull().sum()>0:\n",
        "            df = df_datos.copy()\n",
        "            df[name_col]=df[name_col].fillna(reemplezar)\n",
        "            print(\"cantidad antes {}/{}  despues {}/{} \".format(df_datos[name_col].isnull().sum(),len(df_datos),df[name_col].isnull().sum(),len(df)))\n",
        "            return df\n",
        "        print(\"no hay nulos\")\n",
        "        return df_datos\n",
        "            #df_n[\"Company Profile\"]=df_n[\"Company Profile\"].fillna('{\"Sector\":\"\",\"Industry\":\"\"}')"
      ],
      "metadata": {
        "id": "JU75Yp4mZKnO"
      },
      "execution_count": 4,
      "outputs": []
    },
    {
      "cell_type": "code",
      "source": [
        "padclase = Pad_clase()\n",
        "dataset_path = padclase.download_dataset_zip(\"oscardavidperilla/domestic-violence-in-colombia\")\n",
        "csv_dir = padclase.extract_zip_files(dataset_path)\n",
        "df = padclase.create_csv(csv_dir)"
      ],
      "metadata": {
        "colab": {
          "base_uri": "https://localhost:8080/"
        },
        "id": "997jdUl0ZP23",
        "outputId": "8820cb33-e0ea-44ff-a8f7-5e0b1b800e4b"
      },
      "execution_count": 5,
      "outputs": [
        {
          "output_type": "stream",
          "name": "stdout",
          "text": [
            "Descargando dataset desde Kaggle...\n",
            "Downloading from https://www.kaggle.com/api/v1/datasets/download/oscardavidperilla/domestic-violence-in-colombia?dataset_version_number=1...\n"
          ]
        },
        {
          "output_type": "stream",
          "name": "stderr",
          "text": [
            "100%|██████████| 3.02M/3.02M [00:00<00:00, 3.43MB/s]"
          ]
        },
        {
          "output_type": "stream",
          "name": "stdout",
          "text": [
            "Extracting files...\n"
          ]
        },
        {
          "output_type": "stream",
          "name": "stderr",
          "text": [
            "\n"
          ]
        },
        {
          "output_type": "stream",
          "name": "stdout",
          "text": [
            "Ruta al dataset: /root/.cache/kagglehub/datasets/oscardavidperilla/domestic-violence-in-colombia/versions/1\n",
            "No se encontró archivo ZIP pero se detectaron archivos CSV; se asume que el dataset ya se encuentra extraído.\n",
            "Leyendo /root/.cache/kagglehub/datasets/oscardavidperilla/domestic-violence-in-colombia/versions/1/Reporte_Delito_Violencia_Intrafamiliar_Polic_a_Nacional.csv...\n",
            "Creando/actualizando \n",
            "cvs creado correctamente en \n"
          ]
        },
        {
          "output_type": "stream",
          "name": "stderr",
          "text": [
            "<ipython-input-4-a56c581bbfb8>:40: DtypeWarning: Columns (2) have mixed types. Specify dtype option on import or set low_memory=False.\n",
            "  df = pd.read_csv(file_path, encoding=\"latin1\")\n"
          ]
        }
      ]
    },
    {
      "cell_type": "markdown",
      "source": [
        "realizar limpieza (Nulos o NaNs o Vacios , Caracteres espaciales)"
      ],
      "metadata": {
        "id": "eTQd6p3yZf3G"
      }
    },
    {
      "cell_type": "code",
      "source": [],
      "metadata": {
        "id": "accx78FLZoV_"
      },
      "execution_count": null,
      "outputs": []
    },
    {
      "cell_type": "code",
      "source": [
        "\n",
        "!pip install matplotlib"
      ],
      "metadata": {
        "colab": {
          "base_uri": "https://localhost:8080/"
        },
        "id": "OJt3VSX0ZanH",
        "outputId": "e7813627-5329-4d4a-83a6-cee55e13c6f6"
      },
      "execution_count": 6,
      "outputs": [
        {
          "output_type": "stream",
          "name": "stdout",
          "text": [
            "Requirement already satisfied: matplotlib in /usr/local/lib/python3.11/dist-packages (3.10.0)\n",
            "Requirement already satisfied: contourpy>=1.0.1 in /usr/local/lib/python3.11/dist-packages (from matplotlib) (1.3.1)\n",
            "Requirement already satisfied: cycler>=0.10 in /usr/local/lib/python3.11/dist-packages (from matplotlib) (0.12.1)\n",
            "Requirement already satisfied: fonttools>=4.22.0 in /usr/local/lib/python3.11/dist-packages (from matplotlib) (4.56.0)\n",
            "Requirement already satisfied: kiwisolver>=1.3.1 in /usr/local/lib/python3.11/dist-packages (from matplotlib) (1.4.8)\n",
            "Requirement already satisfied: numpy>=1.23 in /usr/local/lib/python3.11/dist-packages (from matplotlib) (2.0.2)\n",
            "Requirement already satisfied: packaging>=20.0 in /usr/local/lib/python3.11/dist-packages (from matplotlib) (24.2)\n",
            "Requirement already satisfied: pillow>=8 in /usr/local/lib/python3.11/dist-packages (from matplotlib) (11.1.0)\n",
            "Requirement already satisfied: pyparsing>=2.3.1 in /usr/local/lib/python3.11/dist-packages (from matplotlib) (3.2.3)\n",
            "Requirement already satisfied: python-dateutil>=2.7 in /usr/local/lib/python3.11/dist-packages (from matplotlib) (2.8.2)\n",
            "Requirement already satisfied: six>=1.5 in /usr/local/lib/python3.11/dist-packages (from python-dateutil>=2.7->matplotlib) (1.17.0)\n"
          ]
        }
      ]
    }
  ]
}