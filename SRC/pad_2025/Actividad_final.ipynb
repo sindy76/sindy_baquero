{
 "cells": [
  {
   "cell_type": "code",
   "execution_count": 1,
   "id": "d24f9589-d1a2-4a11-aa3b-6a405823e6c1",
   "metadata": {},
   "outputs": [
    {
     "name": "stdout",
     "output_type": "stream",
     "text": [
      "Requirement already satisfied: pip in g:\\p_paola\\iud\\analitica de dato\\reposotorio\\sindy_baquero\\.venv\\lib\\site-packages (25.0.1)\n"
     ]
    }
   ],
   "source": [
    "!python -m pip install --upgrade pip"
   ]
  },
  {
   "cell_type": "code",
   "execution_count": 2,
   "id": "3dcb3378-2507-4386-93d1-781af0ca96f8",
   "metadata": {},
   "outputs": [],
   "source": [
    "!pip install kagglehub[pandas-datasets]>=0.3.8 geopy"
   ]
  },
  {
   "cell_type": "code",
   "execution_count": 3,
   "id": "a96b4cb0-01ef-4355-8a81-c9261d8ef981",
   "metadata": {},
   "outputs": [],
   "source": [
    "import kagglehub\n",
    "import zipfile\n",
    "import os\n",
    "import pandas as pd\n",
    "from geopy.geocoders import Nominatim\n",
    "from geopy.extra.rate_limiter import RateLimiter"
   ]
  },
  {
   "cell_type": "code",
   "execution_count": 4,
   "id": "293aa142-0fce-41d0-b61b-e2c7af166946",
   "metadata": {},
   "outputs": [],
   "source": [
    "class Pad_clase:\n",
    "    def __init__(self):\n",
    "        pass\n",
    "\n",
    "    def download_dataset_zip(self,url = \"\"):\n",
    "        print(\"Descargando dataset desde Kaggle...\")\n",
    "        dataset_path = kagglehub.dataset_download(url)\n",
    "        print(\"Ruta al dataset:\", dataset_path)\n",
    "        return dataset_path\n",
    "\n",
    "    def extract_zip_files(self,dataset_path):\n",
    "        zip_files = [f for f in os.listdir(dataset_path) if f.endswith('.zip')]\n",
    "        if zip_files:\n",
    "            zip_file = os.path.join(dataset_path, zip_files[0])\n",
    "            extract_dir = os.path.join(dataset_path, \"extracted\")\n",
    "            os.makedirs(extract_dir, exist_ok=True)\n",
    "            print(f\"Extrayendo {zip_file} en {extract_dir}...\")\n",
    "            with zipfile.ZipFile(zip_file, \"r\") as z:\n",
    "                z.extractall(extract_dir)\n",
    "            return extract_dir\n",
    "        else:\n",
    "            # Si no se encuentra un ZIP, se verifica si existen archivos CSV en la ruta\n",
    "            csv_files = [f for f in os.listdir(dataset_path) if f.endswith('.csv')]\n",
    "            if csv_files:\n",
    "                print(\"No se encontró archivo ZIP pero se detectaron archivos CSV; se asume que el dataset ya se encuentra extraído.\")\n",
    "                return dataset_path\n",
    "            else:\n",
    "                raise FileNotFoundError(\"No se encontró ningún archivo .zip ni archivos .csv en la ruta del dataset\")\n",
    "\n",
    "    def create_csv(self,csv_dir):\n",
    "        #os.makedirs('src/static/csv', exist_ok=True)\n",
    "        csv_files = [f for f in os.listdir(csv_dir) if f.endswith('.csv')]\n",
    "        if not csv_files:\n",
    "            raise FileNotFoundError(\"No se encontraron archivos CSV en el directorio extraído\")\n",
    "\n",
    "        for file in csv_files:\n",
    "            file_path = os.path.join(csv_dir, file)\n",
    "            print(f\"Leyendo {file_path}...\")\n",
    "            try:\n",
    "                df = pd.read_csv(file_path, encoding=\"latin1\")\n",
    "            except Exception as e:\n",
    "                print(f\"Error al leer {file}: {e}\")\n",
    "                continue\n",
    "            print(f\"Creando/actualizando \")\n",
    "        print(\"cvs creado correctamente en \")\n",
    "        return df\n",
    "\n",
    "    def columna_regex(self,df_datos =pd.DataFrame(), reg = r\"\",columna =\"\",n_columnas = []):\n",
    "        df = df_datos.copy()\n",
    "        df[n_columnas] = df[columna].str.extract(reg).astype(int)\n",
    "        return df\n",
    "\n",
    "    def limpieza_nan_null(self,df_datos =pd.DataFrame(), name_col=\"\", reemplezar=\"\"):\n",
    "        if df_datos[name_col].isnull().sum()>0:\n",
    "            df = df_datos.copy()\n",
    "            df[name_col]=df[name_col].fillna(reemplezar)\n",
    "            print(\"cantidad antes {}/{}  despues {}/{} \".format(df_datos[name_col].isnull().sum(),len(df_datos),df[name_col].isnull().sum(),len(df)))\n",
    "            return df\n",
    "        print(\"no hay nulos\")\n",
    "        return df_datos\n",
    "            #df_n[\"Company Profile\"]=df_n[\"Company Profile\"].fillna('{\"Sector\":\"\",\"Industry\":\"\"}')\n",
    "     "
   ]
  },
  {
   "cell_type": "code",
   "execution_count": null,
   "id": "b2b87cfb-d212-40b7-a573-4d88ea956fba",
   "metadata": {},
   "outputs": [],
   "source": []
  }
 ],
 "metadata": {
  "kernelspec": {
   "display_name": "Python 3 (ipykernel)",
   "language": "python",
   "name": "python3"
  },
  "language_info": {
   "codemirror_mode": {
    "name": "ipython",
    "version": 3
   },
   "file_extension": ".py",
   "mimetype": "text/x-python",
   "name": "python",
   "nbconvert_exporter": "python",
   "pygments_lexer": "ipython3",
   "version": "3.9.2"
  }
 },
 "nbformat": 4,
 "nbformat_minor": 5
}
