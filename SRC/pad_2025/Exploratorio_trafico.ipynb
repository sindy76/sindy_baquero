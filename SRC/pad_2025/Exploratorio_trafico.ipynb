{
 "cells": [
  {
   "cell_type": "code",
   "execution_count": null,
   "id": "7817e265-e13e-4544-8bdc-533255583578",
   "metadata": {},
   "outputs": [],
   "source": [
    "import matplotlib\n",
    "matplotlib.use('TkAgg')\n",
    "import matplotlib.pyplot as plt\n",
    "import pandas as pd\n",
    "from Pad_clase import Pad_clase\n",
    "\n",
    "obtener informacion de kaggle yconstruir dataframe"
   ]
  },
  {
   "cell_type": "code",
   "execution_count": null,
   "id": "d0f3f618-a5d1-487c-885d-a8388d82a3cb",
   "metadata": {},
   "outputs": [],
   "source": [
    "padclase = Pad_clase()          \n",
    "dataset_path = padclase.download_dataset_zip()\n",
    "csv_dir = padclase.extract_zip_files(dataset_path)\n",
    "df = padclase.create_csv(csv_dir)\n",
    "print(df.describe(),df.count,df.info())"
   ]
  },
  {
   "cell_type": "code",
   "execution_count": null,
   "id": "4d223c00-1f33-4fab-bf75-cfbd9eb5cca7",
   "metadata": {},
   "outputs": [],
   "source": []
  }
 ],
 "metadata": {
  "kernelspec": {
   "display_name": "Python 3 (ipykernel)",
   "language": "python",
   "name": "python3"
  },
  "language_info": {
   "codemirror_mode": {
    "name": "ipython",
    "version": 3
   },
   "file_extension": ".py",
   "mimetype": "text/x-python",
   "name": "python",
   "nbconvert_exporter": "python",
   "pygments_lexer": "ipython3",
   "version": "3.9.2"
  }
 },
 "nbformat": 4,
 "nbformat_minor": 5
}
