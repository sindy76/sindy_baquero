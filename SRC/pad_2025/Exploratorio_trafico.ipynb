{
 "cells": [
  {
   "cell_type": "code",
   "execution_count": 1,
   "id": "7df8c97a",
   "metadata": {},
   "outputs": [],
   "source": [
    "import matplotlib\n",
    "matplotlib.use('TkAgg')\n",
    "import matplotlib.pyplot as plt\n",
    "import pandas as pd\n",
    "from Pad_clase import Pad_clase"
   ]
  },
  {
   "cell_type": "markdown",
   "id": "8b3fcfcd",
   "metadata": {},
   "source": [
    "obtener informacion de kaggle yconstruir dataframe"
   ]
  },
  {
   "cell_type": "code",
   "execution_count": 3,
   "id": "46dd0ccf",
   "metadata": {},
   "outputs": [
    {
     "name": "stdout",
     "output_type": "stream",
     "text": [
      "Descargando dataset desde Kaggle...\n",
      "Ruta al dataset: C:\\Users\\user\\.cache\\kagglehub\\datasets\\oktayrdeki\\traffic-accidents\\versions\\1\n",
      "No se encontró archivo ZIP pero se detectaron archivos CSV; se asume que el dataset ya se encuentra extraído.\n",
      "Leyendo C:\\Users\\user\\.cache\\kagglehub\\datasets\\oktayrdeki\\traffic-accidents\\versions\\1\\traffic_accidents.csv...\n",
      "Creando/actualizando \n",
      "cvs creado correctamente en \n",
      "<class 'pandas.core.frame.DataFrame'>\n",
      "RangeIndex: 209306 entries, 0 to 209305\n",
      "Data columns (total 24 columns):\n",
      " #   Column                         Non-Null Count   Dtype  \n",
      "---  ------                         --------------   -----  \n",
      " 0   crash_date                     209306 non-null  object \n",
      " 1   traffic_control_device         209306 non-null  object \n",
      " 2   weather_condition              209306 non-null  object \n",
      " 3   lighting_condition             209306 non-null  object \n",
      " 4   first_crash_type               209306 non-null  object \n",
      " 5   trafficway_type                209306 non-null  object \n",
      " 6   alignment                      209306 non-null  object \n",
      " 7   roadway_surface_cond           209306 non-null  object \n",
      " 8   road_defect                    209306 non-null  object \n",
      " 9   crash_type                     209306 non-null  object \n",
      " 10  intersection_related_i         209306 non-null  object \n",
      " 11  damage                         209306 non-null  object \n",
      " 12  prim_contributory_cause        209306 non-null  object \n",
      " 13  num_units                      209306 non-null  int64  \n",
      " 14  most_severe_injury             209306 non-null  object \n",
      " 15  injuries_total                 209306 non-null  float64\n",
      " 16  injuries_fatal                 209306 non-null  float64\n",
      " 17  injuries_incapacitating        209306 non-null  float64\n",
      " 18  injuries_non_incapacitating    209306 non-null  float64\n",
      " 19  injuries_reported_not_evident  209306 non-null  float64\n",
      " 20  injuries_no_indication         209306 non-null  float64\n",
      " 21  crash_hour                     209306 non-null  int64  \n",
      " 22  crash_day_of_week              209306 non-null  int64  \n",
      " 23  crash_month                    209306 non-null  int64  \n",
      "dtypes: float64(6), int64(4), object(14)\n",
      "memory usage: 38.3+ MB\n",
      "           num_units  injuries_total  injuries_fatal  injuries_incapacitating  \\\n",
      "count  209306.000000   209306.000000   209306.000000            209306.000000   \n",
      "mean        2.063300        0.382717        0.001859                 0.038102   \n",
      "std         0.396012        0.799720        0.047502                 0.233964   \n",
      "min         1.000000        0.000000        0.000000                 0.000000   \n",
      "25%         2.000000        0.000000        0.000000                 0.000000   \n",
      "50%         2.000000        0.000000        0.000000                 0.000000   \n",
      "75%         2.000000        1.000000        0.000000                 0.000000   \n",
      "max        11.000000       21.000000        3.000000                 7.000000   \n",
      "\n",
      "       injuries_non_incapacitating  injuries_reported_not_evident  \\\n",
      "count                209306.000000                  209306.000000   \n",
      "mean                      0.221241                       0.121516   \n",
      "std                       0.614960                       0.450865   \n",
      "min                       0.000000                       0.000000   \n",
      "25%                       0.000000                       0.000000   \n",
      "50%                       0.000000                       0.000000   \n",
      "75%                       0.000000                       0.000000   \n",
      "max                      21.000000                      15.000000   \n",
      "\n",
      "       injuries_no_indication     crash_hour  crash_day_of_week    crash_month  \n",
      "count           209306.000000  209306.000000      209306.000000  209306.000000  \n",
      "mean                 2.244002      13.373047           4.144024       6.771822  \n",
      "std                  1.241175       5.603830           1.966864       3.427593  \n",
      "min                  0.000000       0.000000           1.000000       1.000000  \n",
      "25%                  2.000000       9.000000           2.000000       4.000000  \n",
      "50%                  2.000000      14.000000           4.000000       7.000000  \n",
      "75%                  3.000000      17.000000           6.000000      10.000000  \n",
      "max                 49.000000      23.000000           7.000000      12.000000   <bound method DataFrame.count of                     crash_date traffic_control_device weather_condition  \\\n",
      "0       07/29/2023 01:00:00 PM         TRAFFIC SIGNAL             CLEAR   \n",
      "1       08/13/2023 12:11:00 AM         TRAFFIC SIGNAL             CLEAR   \n",
      "2       12/09/2021 10:30:00 AM         TRAFFIC SIGNAL             CLEAR   \n",
      "3       08/09/2023 07:55:00 PM         TRAFFIC SIGNAL             CLEAR   \n",
      "4       08/19/2023 02:55:00 PM         TRAFFIC SIGNAL             CLEAR   \n",
      "...                        ...                    ...               ...   \n",
      "209301  09/13/2023 01:08:00 PM                UNKNOWN           UNKNOWN   \n",
      "209302  07/18/2023 02:10:00 PM                UNKNOWN             CLEAR   \n",
      "209303  10/23/2019 01:32:00 PM         TRAFFIC SIGNAL             CLEAR   \n",
      "209304  06/01/2020 03:23:00 PM            NO CONTROLS             CLEAR   \n",
      "209305  12/16/2022 12:10:00 PM         TRAFFIC SIGNAL             CLEAR   \n",
      "\n",
      "            lighting_condition          first_crash_type  \\\n",
      "0                     DAYLIGHT                   TURNING   \n",
      "1       DARKNESS, LIGHTED ROAD                   TURNING   \n",
      "2                     DAYLIGHT                  REAR END   \n",
      "3                     DAYLIGHT                     ANGLE   \n",
      "4                     DAYLIGHT                  REAR END   \n",
      "...                        ...                       ...   \n",
      "209301                 UNKNOWN                   TURNING   \n",
      "209302                DAYLIGHT  SIDESWIPE SAME DIRECTION   \n",
      "209303                DAYLIGHT                PEDESTRIAN   \n",
      "209304                DAYLIGHT                PEDESTRIAN   \n",
      "209305                DAYLIGHT                   TURNING   \n",
      "\n",
      "                        trafficway_type           alignment  \\\n",
      "0                           NOT DIVIDED  STRAIGHT AND LEVEL   \n",
      "1                              FOUR WAY  STRAIGHT AND LEVEL   \n",
      "2                        T-INTERSECTION  STRAIGHT AND LEVEL   \n",
      "3                              FOUR WAY  STRAIGHT AND LEVEL   \n",
      "4                        T-INTERSECTION  STRAIGHT AND LEVEL   \n",
      "...                                 ...                 ...   \n",
      "209301                         FOUR WAY  STRAIGHT AND LEVEL   \n",
      "209302                      NOT DIVIDED  STRAIGHT AND LEVEL   \n",
      "209303  DIVIDED - W/MEDIAN (NOT RAISED)   STRAIGHT ON GRADE   \n",
      "209304                   T-INTERSECTION  STRAIGHT AND LEVEL   \n",
      "209305                         FOUR WAY  STRAIGHT AND LEVEL   \n",
      "\n",
      "       roadway_surface_cond road_defect                        crash_type  \\\n",
      "0                   UNKNOWN     UNKNOWN            NO INJURY / DRIVE AWAY   \n",
      "1                       DRY  NO DEFECTS            NO INJURY / DRIVE AWAY   \n",
      "2                       DRY  NO DEFECTS            NO INJURY / DRIVE AWAY   \n",
      "3                       DRY  NO DEFECTS  INJURY AND / OR TOW DUE TO CRASH   \n",
      "4                   UNKNOWN     UNKNOWN            NO INJURY / DRIVE AWAY   \n",
      "...                     ...         ...                               ...   \n",
      "209301              UNKNOWN     UNKNOWN            NO INJURY / DRIVE AWAY   \n",
      "209302                  DRY  NO DEFECTS            NO INJURY / DRIVE AWAY   \n",
      "209303                  DRY  NO DEFECTS  INJURY AND / OR TOW DUE TO CRASH   \n",
      "209304                  DRY  NO DEFECTS  INJURY AND / OR TOW DUE TO CRASH   \n",
      "209305                  WET  NO DEFECTS            NO INJURY / DRIVE AWAY   \n",
      "\n",
      "        ...        most_severe_injury injuries_total injuries_fatal  \\\n",
      "0       ...   NO INDICATION OF INJURY            0.0            0.0   \n",
      "1       ...   NO INDICATION OF INJURY            0.0            0.0   \n",
      "2       ...   NO INDICATION OF INJURY            0.0            0.0   \n",
      "3       ...  NONINCAPACITATING INJURY            5.0            0.0   \n",
      "4       ...   NO INDICATION OF INJURY            0.0            0.0   \n",
      "...     ...                       ...            ...            ...   \n",
      "209301  ...   NO INDICATION OF INJURY            0.0            0.0   \n",
      "209302  ...   NO INDICATION OF INJURY            0.0            0.0   \n",
      "209303  ...     INCAPACITATING INJURY            2.0            0.0   \n",
      "209304  ...  NONINCAPACITATING INJURY            1.0            0.0   \n",
      "209305  ...   NO INDICATION OF INJURY            0.0            0.0   \n",
      "\n",
      "        injuries_incapacitating injuries_non_incapacitating  \\\n",
      "0                           0.0                         0.0   \n",
      "1                           0.0                         0.0   \n",
      "2                           0.0                         0.0   \n",
      "3                           0.0                         5.0   \n",
      "4                           0.0                         0.0   \n",
      "...                         ...                         ...   \n",
      "209301                      0.0                         0.0   \n",
      "209302                      0.0                         0.0   \n",
      "209303                      2.0                         0.0   \n",
      "209304                      0.0                         1.0   \n",
      "209305                      0.0                         0.0   \n",
      "\n",
      "        injuries_reported_not_evident  injuries_no_indication  crash_hour  \\\n",
      "0                                 0.0                     3.0          13   \n",
      "1                                 0.0                     2.0           0   \n",
      "2                                 0.0                     3.0          10   \n",
      "3                                 0.0                     0.0          19   \n",
      "4                                 0.0                     3.0          14   \n",
      "...                               ...                     ...         ...   \n",
      "209301                            0.0                     2.0          13   \n",
      "209302                            0.0                     2.0          14   \n",
      "209303                            0.0                     0.0          13   \n",
      "209304                            0.0                     1.0          15   \n",
      "209305                            0.0                     2.0          12   \n",
      "\n",
      "        crash_day_of_week  crash_month  \n",
      "0                       7            7  \n",
      "1                       1            8  \n",
      "2                       5           12  \n",
      "3                       4            8  \n",
      "4                       7            8  \n",
      "...                   ...          ...  \n",
      "209301                  4            9  \n",
      "209302                  3            7  \n",
      "209303                  4           10  \n",
      "209304                  2            6  \n",
      "209305                  6           12  \n",
      "\n",
      "[209306 rows x 24 columns]> None\n"
     ]
    }
   ],
   "source": [
    "padclase = Pad_clase()          \n",
    "dataset_path = padclase.download_dataset_zip()\n",
    "csv_dir = padclase.extract_zip_files(dataset_path)\n",
    "df = padclase.create_csv(csv_dir)\n",
    "print(df.describe(),df.count,df.info())"
   ]
  },
  {
   "cell_type": "markdown",
   "id": "fa0a8f67",
   "metadata": {},
   "source": [
    "transformacion de datos"
   ]
  },
  {
   "cell_type": "code",
   "execution_count": 4,
   "id": "ee72bc17",
   "metadata": {},
   "outputs": [
    {
     "name": "stdout",
     "output_type": "stream",
     "text": [
      "0    07/29/2023 01:00:00 PM\n",
      "1    08/13/2023 12:11:00 AM\n",
      "Name: crash_date, dtype: object\n"
     ]
    }
   ],
   "source": [
    "print(df[\"crash_date\"].head(2))"
   ]
  },
  {
   "cell_type": "code",
   "execution_count": 5,
   "id": "71481e2d",
   "metadata": {},
   "outputs": [
    {
     "name": "stdout",
     "output_type": "stream",
     "text": [
      "0   2023-07-29 13:00:00\n",
      "1   2023-08-13 00:11:00\n",
      "Name: crash_date_new, dtype: datetime64[ns]\n"
     ]
    }
   ],
   "source": [
    "df[\"crash_date_new\"] = pd.to_datetime(df[\"crash_date\"],errors=\"coerce\",format=\"%m/%d/%Y %I:%M:%S %p\")\n",
    "print(df[\"crash_date_new\"].head(2))"
   ]
  },
  {
   "cell_type": "code",
   "execution_count": 6,
   "id": "39a746b1",
   "metadata": {},
   "outputs": [
    {
     "name": "stdout",
     "output_type": "stream",
     "text": [
      "0    Saturday\n",
      "1      Sunday\n",
      "Name: dia_semana, dtype: object\n"
     ]
    }
   ],
   "source": [
    "df[\"dia_semana\"] = df[\"crash_date_new\"].dt.day_name()\n",
    "print(df[\"dia_semana\"].head(2))"
   ]
  },
  {
   "cell_type": "code",
   "execution_count": 7,
   "id": "bd375441",
   "metadata": {},
   "outputs": [],
   "source": [
    "dias_traducidos = {\n",
    "    'Monday': 'Lunes',\n",
    "    'Tuesday': 'Martes',\n",
    "    'Wednesday': 'Miércoles',\n",
    "    'Thursday': 'Jueves',\n",
    "    'Friday': 'Viernes',\n",
    "    'Saturday': 'Sábado',\n",
    "    'Sunday': 'Domingo'\n",
    "}"
   ]
  },
  {
   "cell_type": "code",
   "execution_count": 8,
   "id": "7673829d",
   "metadata": {},
   "outputs": [
    {
     "name": "stdout",
     "output_type": "stream",
     "text": [
      "0     Sábado\n",
      "1    Domingo\n",
      "Name: dia_semana, dtype: object\n"
     ]
    }
   ],
   "source": [
    "df[\"dia_semana\"] = df[\"dia_semana\"].map(dias_traducidos)\n",
    "print(df[\"dia_semana\"].head(2))"
   ]
  },
  {
   "cell_type": "code",
   "execution_count": 9,
   "id": "e6ab123b",
   "metadata": {},
   "outputs": [],
   "source": [
    "df['mes']   = df['crash_date_new'].dt.month\n",
    "df['anio']   = df['crash_date_new'].dt.year\n",
    "df['dia']   = df['crash_date_new'].dt.day\n",
    "df['hora']  = df['crash_date_new'].dt.hour\n",
    "df['am_pm'] = df['hora'].apply(lambda x: \"DIA\" if (x > 5 and x < 19) else \"NOCHE\")"
   ]
  },
  {
   "cell_type": "code",
   "execution_count": 10,
   "id": "10e4e16b",
   "metadata": {},
   "outputs": [
    {
     "name": "stdout",
     "output_type": "stream",
     "text": [
      "   anio  mes  dia dia_semana  hora  am_pm\n",
      "0  2023    7   29     Sábado    13    DIA\n",
      "1  2023    8   13    Domingo     0  NOCHE\n"
     ]
    }
   ],
   "source": [
    "print(df[['anio','mes','dia','dia_semana','hora','am_pm' ]].head(2) )"
   ]
  },
  {
   "cell_type": "code",
   "execution_count": 11,
   "id": "5dfbff73",
   "metadata": {},
   "outputs": [
    {
     "name": "stdout",
     "output_type": "stream",
     "text": [
      "mes\n",
      "1     16606\n",
      "2     14621\n",
      "3     15265\n",
      "4     15096\n",
      "5     17432\n",
      "6     17851\n",
      "7     17834\n",
      "8     18350\n",
      "9     19018\n",
      "10    20089\n",
      "11    18328\n",
      "12    18816\n",
      "Name: count, dtype: int64\n"
     ]
    }
   ],
   "source": [
    "columna = 'mes'\n",
    "conteo = df[columna].value_counts().sort_index()\n",
    "print(conteo)"
   ]
  },
  {
   "cell_type": "markdown",
   "id": "1a08fff0",
   "metadata": {},
   "source": [
    "grafico simple"
   ]
  },
  {
   "cell_type": "code",
   "execution_count": 12,
   "id": "90af2d71",
   "metadata": {},
   "outputs": [],
   "source": [
    "plt.figure()\n",
    "conteo.plot(kind= \"bar\") # subplot\n",
    "plt.xlabel(columna)\n",
    "plt.ylabel(\"cantidad\")\n",
    "plt.show()"
   ]
  },
  {
   "cell_type": "code",
   "execution_count": 13,
   "id": "7658e954",
   "metadata": {},
   "outputs": [],
   "source": [
    "columnas = ['anio','mes','dia','dia_semana','hora','am_pm' ]\n",
    "padclase.graficos_agrupados(df,columnas)"
   ]
  },
  {
   "cell_type": "code",
   "execution_count": 14,
   "id": "752c9275",
   "metadata": {},
   "outputs": [],
   "source": [
    "def crear_subplots_columnas(df, columnas):\n",
    "    num_columnas = len(columnas)\n",
    "    if num_columnas < 1 or num_columnas > 6:\n",
    "        raise ValueError(\"El número de columnas debe ser entre 1 y 6.\")\n",
    "    fig, axes = plt.subplots(1, num_columnas, figsize=(5*num_columnas, 5))\n",
    "    \n",
    "    if num_columnas == 1:\n",
    "        axes = [axes] \n",
    "    for ax, col in zip(axes, columnas):\n",
    "        conteo = df[col].value_counts().sort_index()\n",
    "        conteo.plot(kind='bar', ax=ax)\n",
    "        ax.set_title(f'Distribución de {col}')\n",
    "        ax.set_xlabel(col)\n",
    "        ax.set_ylabel('Cantidad')\n",
    "\n",
    "    plt.tight_layout()\n",
    "    plt.show()"
   ]
  },
  {
   "cell_type": "code",
   "execution_count": 15,
   "id": "28231758",
   "metadata": {},
   "outputs": [],
   "source": [
    "crear_subplots_columnas(df,columnas[1:4])"
   ]
  },
  {
   "cell_type": "code",
   "execution_count": 16,
   "id": "3fabeabe",
   "metadata": {},
   "outputs": [
    {
     "name": "stdout",
     "output_type": "stream",
     "text": [
      "    n_punto  resultado\n",
      "0         1          0\n",
      "1         2          0\n",
      "2         3          0\n",
      "3         4          0\n",
      "4         5          0\n",
      "5         6          0\n",
      "6         7          0\n",
      "7         8          0\n",
      "8         9          0\n",
      "9        10          0\n",
      "10       11          0\n",
      "11       12          0\n"
     ]
    }
   ],
   "source": [
    "datos = {\n",
    "    \"n_punto\": [1,2,3,4,5,6,7,8,9,10,11,12],\n",
    "    \"resultado\":[0,0,0,0,0,0,0,0,0,0,0,0]\n",
    "}\n",
    "df_actividad = pd.DataFrame(datos)\n",
    "print(df_actividad)"
   ]
  }
 ],
 "metadata": {
  "kernelspec": {
   "display_name": ".venv",
   "language": "python",
   "name": "python3"
  },
  "language_info": {
   "codemirror_mode": {
    "name": "ipython",
    "version": 3
   },
   "file_extension": ".py",
   "mimetype": "text/x-python",
   "name": "python",
   "nbconvert_exporter": "python",
   "pygments_lexer": "ipython3",
   "version": "3.9.2"
  }
 },
 "nbformat": 4,
 "nbformat_minor": 5
}
